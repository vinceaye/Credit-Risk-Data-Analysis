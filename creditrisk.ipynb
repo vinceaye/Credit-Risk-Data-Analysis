{
 "cells": [
  {
   "cell_type": "markdown",
   "metadata": {},
   "source": [
    "# Credit Risk Prediction\n",
    "## Vince Alihan"
   ]
  },
  {
   "cell_type": "markdown",
   "metadata": {},
   "source": [
    "### Objective:\n",
    "\n",
    "The goal of this project is to develop a model that predicts the likelihood of loan default. \n",
    "We will begin by implementing traditional methods such as logistic regression, \n",
    "and then explore more advanced techniques including XGBoost and neural networks."
   ]
  },
  {
   "cell_type": "markdown",
   "metadata": {},
   "source": [
    "### Key Learning Goals:\n",
    "\n",
    "- Feature engineering and selection from financial data.\n",
    "- Handling imbalanced datasets (since defaults are often rare).\n",
    "- Experimenting with different evaluation metrics (e.g., ROC-AUC, precision-recall)."
   ]
  },
  {
   "cell_type": "code",
   "execution_count": 25,
   "metadata": {},
   "outputs": [],
   "source": [
    "import numpy as np\n",
    "import pandas as pd"
   ]
  },
  {
   "cell_type": "code",
   "execution_count": 26,
   "metadata": {},
   "outputs": [
    {
     "name": "stdout",
     "output_type": "stream",
     "text": [
      "  Unnamed: 0         X1   X2         X3        X4   X5     X6     X7     X8  \\\n",
      "0         ID  LIMIT_BAL  SEX  EDUCATION  MARRIAGE  AGE  PAY_0  PAY_2  PAY_3   \n",
      "1          1      20000    2          2         1   24      2      2     -1   \n",
      "2          2     120000    2          2         2   26     -1      2      0   \n",
      "3          3      90000    2          2         2   34      0      0      0   \n",
      "4          4      50000    2          2         1   37      0      0      0   \n",
      "\n",
      "      X9  ...        X15        X16        X17       X18       X19       X20  \\\n",
      "0  PAY_4  ...  BILL_AMT4  BILL_AMT5  BILL_AMT6  PAY_AMT1  PAY_AMT2  PAY_AMT3   \n",
      "1     -1  ...          0          0          0         0       689         0   \n",
      "2      0  ...       3272       3455       3261         0      1000      1000   \n",
      "3      0  ...      14331      14948      15549      1518      1500      1000   \n",
      "4      0  ...      28314      28959      29547      2000      2019      1200   \n",
      "\n",
      "        X21       X22       X23                           Y  \n",
      "0  PAY_AMT4  PAY_AMT5  PAY_AMT6  default payment next month  \n",
      "1         0         0         0                           1  \n",
      "2      1000         0      2000                           1  \n",
      "3      1000      1000      5000                           0  \n",
      "4      1100      1069      1000                           0  \n",
      "\n",
      "[5 rows x 25 columns]\n",
      "No missing values found.\n",
      "<class 'pandas.core.frame.DataFrame'>\n",
      "RangeIndex: 30001 entries, 0 to 30000\n",
      "Data columns (total 25 columns):\n",
      " #   Column      Non-Null Count  Dtype \n",
      "---  ------      --------------  ----- \n",
      " 0   Unnamed: 0  30001 non-null  object\n",
      " 1   X1          30001 non-null  object\n",
      " 2   X2          30001 non-null  object\n",
      " 3   X3          30001 non-null  object\n",
      " 4   X4          30001 non-null  object\n",
      " 5   X5          30001 non-null  object\n",
      " 6   X6          30001 non-null  object\n",
      " 7   X7          30001 non-null  object\n",
      " 8   X8          30001 non-null  object\n",
      " 9   X9          30001 non-null  object\n",
      " 10  X10         30001 non-null  object\n",
      " 11  X11         30001 non-null  object\n",
      " 12  X12         30001 non-null  object\n",
      " 13  X13         30001 non-null  object\n",
      " 14  X14         30001 non-null  object\n",
      " 15  X15         30001 non-null  object\n",
      " 16  X16         30001 non-null  object\n",
      " 17  X17         30001 non-null  object\n",
      " 18  X18         30001 non-null  object\n",
      " 19  X19         30001 non-null  object\n",
      " 20  X20         30001 non-null  object\n",
      " 21  X21         30001 non-null  object\n",
      " 22  X22         30001 non-null  object\n",
      " 23  X23         30001 non-null  object\n",
      " 24  Y           30001 non-null  object\n",
      "dtypes: object(25)\n",
      "memory usage: 5.7+ MB\n",
      "None\n"
     ]
    }
   ],
   "source": [
    "# Path to our dataset\n",
    "dataset = \"C:\\\\Users\\\\vince\\\\OneDrive\\\\Documents\\\\Projects\\\\Credit Risk Prediction\\\\default of credit card clients.xls\"\n",
    "\n",
    "# Importing our Excel Dataset\n",
    "df = pd.read_excel(dataset)\n",
    "\n",
    "# Print out the first few rows of our dataset\n",
    "print(df.head())\n",
    "\n",
    "# Check for any missing values\n",
    "missing_values = df.isnull().sum()\n",
    "if missing_values.sum() == 0:\n",
    "    print(\"No missing values found.\")\n",
    "else: \n",
    "    print(missing_values)\n",
    "\n",
    "# Print out all the datatypes of each column\n",
    "print(df.info())"
   ]
  },
  {
   "cell_type": "markdown",
   "metadata": {},
   "source": [
    "From the original Excel spreadsheet, it appears that all of the values within the rows and columns are marked as 'object' datatypes, we must convert them into 'integer' datatypes in order to utilize machine learning algorithms later on."
   ]
  },
  {
   "cell_type": "code",
   "execution_count": 32,
   "metadata": {},
   "outputs": [
    {
     "name": "stdout",
     "output_type": "stream",
     "text": [
      "Data Types after conversion:\n",
      "0\n",
      "ID                            int32\n",
      "LIMIT_BAL                     int32\n",
      "SEX                           int32\n",
      "EDUCATION                     int32\n",
      "MARRIAGE                      int32\n",
      "AGE                           int32\n",
      "PAY_0                         int32\n",
      "PAY_2                         int32\n",
      "PAY_3                         int32\n",
      "PAY_4                         int32\n",
      "PAY_5                         int32\n",
      "PAY_6                         int32\n",
      "BILL_AMT1                     int32\n",
      "BILL_AMT2                     int32\n",
      "BILL_AMT3                     int32\n",
      "BILL_AMT4                     int32\n",
      "BILL_AMT5                     int32\n",
      "BILL_AMT6                     int32\n",
      "PAY_AMT1                      int32\n",
      "PAY_AMT2                      int32\n",
      "PAY_AMT3                      int32\n",
      "PAY_AMT4                      int32\n",
      "PAY_AMT5                      int32\n",
      "PAY_AMT6                      int32\n",
      "default payment next month    int32\n",
      "dtype: object\n",
      "\n",
      "First few rows of converted data:\n",
      "0  ID  LIMIT_BAL  SEX  EDUCATION  MARRIAGE  AGE  PAY_0  PAY_2  PAY_3  PAY_4  \\\n",
      "1   1      20000    2          2         1   24      2      2     -1     -1   \n",
      "2   2     120000    2          2         2   26     -1      2      0      0   \n",
      "3   3      90000    2          2         2   34      0      0      0      0   \n",
      "4   4      50000    2          2         1   37      0      0      0      0   \n",
      "5   5      50000    1          2         1   57     -1      0     -1      0   \n",
      "\n",
      "0  ...  BILL_AMT4  BILL_AMT5  BILL_AMT6  PAY_AMT1  PAY_AMT2  PAY_AMT3  \\\n",
      "1  ...          0          0          0         0       689         0   \n",
      "2  ...       3272       3455       3261         0      1000      1000   \n",
      "3  ...      14331      14948      15549      1518      1500      1000   \n",
      "4  ...      28314      28959      29547      2000      2019      1200   \n",
      "5  ...      20940      19146      19131      2000     36681     10000   \n",
      "\n",
      "0  PAY_AMT4  PAY_AMT5  PAY_AMT6  default payment next month  \n",
      "1         0         0         0                           1  \n",
      "2      1000         0      2000                           1  \n",
      "3      1000      1000      5000                           0  \n",
      "4      1100      1069      1000                           0  \n",
      "5      9000       689       679                           0  \n",
      "\n",
      "[5 rows x 25 columns]\n"
     ]
    }
   ],
   "source": [
    "# Store the column headers\n",
    "headers = df.iloc[0]\n",
    "\n",
    "# Create new dataframe starting from row 1 (skipping headers)\n",
    "dfcopy = df.iloc[1:].copy()\n",
    "\n",
    "# Convert all values to integers\n",
    "dfcopy = dfcopy.apply(pd.to_numeric, errors='coerce').fillna(0).astype(int)\n",
    "\n",
    "# Restore the column headers\n",
    "dfcopy.columns = headers\n",
    "df = dfcopy\n",
    "\n",
    "# Verify the conversion\n",
    "print(\"Data Types after conversion:\")\n",
    "print(df.dtypes)\n",
    "print(\"\\nFirst few rows of converted data:\")\n",
    "print(df.head())"
   ]
  },
  {
   "cell_type": "code",
   "execution_count": 1,
   "metadata": {},
   "outputs": [
    {
     "name": "stdout",
     "output_type": "stream",
     "text": [
      "C:\\Users\\vince\\OneDrive\\Documents\\Projects\\Credit Risk Prediction\n"
     ]
    },
    {
     "name": "stderr",
     "output_type": "stream",
     "text": [
      "c:\\Python312\\Lib\\site-packages\\IPython\\core\\magics\\osm.py:417: UserWarning: This is now an optional IPython functionality, setting dhist requires you to install the `pickleshare` library.\n",
      "  self.shell.db['dhist'] = compress_dhist(dhist)[-100:]\n"
     ]
    }
   ],
   "source": []
  }
 ],
 "metadata": {
  "kernelspec": {
   "display_name": "Python 3",
   "language": "python",
   "name": "python3"
  },
  "language_info": {
   "codemirror_mode": {
    "name": "ipython",
    "version": 3
   },
   "file_extension": ".py",
   "mimetype": "text/x-python",
   "name": "python",
   "nbconvert_exporter": "python",
   "pygments_lexer": "ipython3",
   "version": "3.12.1"
  }
 },
 "nbformat": 4,
 "nbformat_minor": 2
}
